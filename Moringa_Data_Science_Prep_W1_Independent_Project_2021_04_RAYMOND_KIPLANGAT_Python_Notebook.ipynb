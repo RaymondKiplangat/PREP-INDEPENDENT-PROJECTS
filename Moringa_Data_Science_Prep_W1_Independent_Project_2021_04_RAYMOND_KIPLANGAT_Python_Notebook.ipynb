{
  "nbformat": 4,
  "nbformat_minor": 0,
  "metadata": {
    "colab": {
      "name": "Moringa_Data_Science_Prep_W1_Independent_Project_2021_04_RAYMOND_KIPLANGAT_Python_Notebook.ipynb",
      "provenance": [],
      "collapsed_sections": [],
      "authorship_tag": "ABX9TyOQuDjnn+0WuyKQVdklZekF",
      "include_colab_link": true
    },
    "kernelspec": {
      "name": "python3",
      "display_name": "Python 3"
    },
    "language_info": {
      "name": "python"
    }
  },
  "cells": [
    {
      "cell_type": "markdown",
      "metadata": {
        "id": "view-in-github",
        "colab_type": "text"
      },
      "source": [
        "<a href=\"https://colab.research.google.com/github/RaymondKiplangat/PREP-INDEPENDENT-PROJECTS/blob/main/Moringa_Data_Science_Prep_W1_Independent_Project_2021_04_RAYMOND_KIPLANGAT_Python_Notebook.ipynb\" target=\"_parent\"><img src=\"https://colab.research.google.com/assets/colab-badge.svg\" alt=\"Open In Colab\"/></a>"
      ]
    },
    {
      "cell_type": "code",
      "metadata": {
        "colab": {
          "base_uri": "https://localhost:8080/"
        },
        "id": "2U-3G-FNu7Vc",
        "outputId": "ac282b70-ea6a-4493-ddc2-34eee7aacded"
      },
      "source": [
        "#Take in two values from a user (both in pounds) then convert those values to kilograms.\n",
        "#P and R are just Varibles ....You can use any variable of your choice\n",
        "# 0.453592 is a multiplying factor of pounds.\n",
        "P=int(input('Enter the first value in(Pounds) : '))\n",
        "R=int(input('Enter the second value in(pounds): '))\n",
        "Weight1=str (int (P) * 0.453592)\n",
        "Weight2=str (int (R) * 0.453592)\n",
        "print('First value is ' +  Weight1 +' KGS')\n",
        "print('Second value is ' +  Weight2 +' KGS')\n",
        "\n",
        "\n"
      ],
      "execution_count": null,
      "outputs": [
        {
          "output_type": "stream",
          "text": [
            "Enter the first value in(Pounds) : 150\n",
            "Enter the second value in(pounds): 160\n",
            "First value is 68.0388 KGS\n",
            "Second value is 72.57472 KGS\n"
          ],
          "name": "stdout"
        }
      ]
    },
    {
      "cell_type": "code",
      "metadata": {
        "colab": {
          "base_uri": "https://localhost:8080/"
        },
        "id": "3sskBRzkzGut",
        "outputId": "103f5446-e15a-4529-dc48-261e29919410"
      },
      "source": [
        "##Perform the sum of the values\n",
        "#X and Y are just variables\n",
        "\n",
        "X=int(input('Enter the 1st number: '))\n",
        "Y=int(input('Enter the 2nd number: '))\n",
        "Sum=str (int(X + Y))\n",
        "print('The Sum of the Two numbers is: ' + Sum )"
      ],
      "execution_count": null,
      "outputs": [
        {
          "output_type": "stream",
          "text": [
            "Enter the 1st number: 5\n",
            "Enter the 2nd number: 2\n",
            "The Sum of the Two numbers is: 7\n"
          ],
          "name": "stdout"
        }
      ]
    },
    {
      "cell_type": "code",
      "metadata": {
        "colab": {
          "base_uri": "https://localhost:8080/"
        },
        "id": "B0HmkBku1W7N",
        "outputId": "83dc0bda-0928-4556-a6fb-29f73de0709f"
      },
      "source": [
        "#Find the difference between both values\n",
        "# Q and Z are just Variables\n",
        "Q=int(input('Enter the 1st number: '))\n",
        "Z=int(input('Enter the 2nd number: '))\n",
        "Difference=str (int(Q - Z))\n",
        "print('The Difference of the Two numbers is: ' + Difference )\n",
        "\n"
      ],
      "execution_count": null,
      "outputs": [
        {
          "output_type": "stream",
          "text": [
            "Enter the 1st number: 2\n",
            "Enter the 2nd number: 3\n",
            "The Difference of the Two numbers is: -1\n"
          ],
          "name": "stdout"
        }
      ]
    },
    {
      "cell_type": "code",
      "metadata": {
        "colab": {
          "base_uri": "https://localhost:8080/"
        },
        "id": "kNjOgdXM2_2F",
        "outputId": "3af84990-91e4-4824-af67-4f5862119cdb"
      },
      "source": [
        "#Find the quotient when one value is divided by the other.\n",
        "#O and N are just variables\n",
        "#N/B: Point to Note O>N\n",
        "O=int(input('Enter the 1st number: '))\n",
        "N=int(input('Enter the 2nd number: '))\n",
        "Divide=str (int(O/N)) \n",
        "print('The Quotient  is: ' + Divide)"
      ],
      "execution_count": null,
      "outputs": [
        {
          "output_type": "stream",
          "text": [
            "Enter the 1st number: 20\n",
            "Enter the 2nd number: 2\n",
            "The Quotient  is: 10\n"
          ],
          "name": "stdout"
        }
      ]
    },
    {
      "cell_type": "code",
      "metadata": {
        "colab": {
          "base_uri": "https://localhost:8080/"
        },
        "id": "aVVJuRjI5-Gl",
        "outputId": "5ee62323-3524-4859-f8c3-bf17e1c2651c"
      },
      "source": [
        "#Determine and print out whether any of the numbers are even or add.\n",
        "#V is just a varible\n",
        "#!= it states that the remainder should not be equal to 0 for a number to be even.\n",
        "#%is the modulus,== it states that the remainder should be equal to 0 for a number to be even.\n",
        "V=input('Enter a number: ')\n",
        "if (int(V) % 2) == 0:\n",
        "   print ('Even')\n",
        "elif (int(V) % 2)!=0 :\n",
        "   print('odd')"
      ],
      "execution_count": null,
      "outputs": [
        {
          "output_type": "stream",
          "text": [
            "Enter a number: 54\n",
            "Even\n"
          ],
          "name": "stdout"
        }
      ]
    },
    {
      "cell_type": "code",
      "metadata": {
        "id": "8XqkYDcL6Iou"
      },
      "source": [
        "#Have comments applied appropriately.\n",
        "# Comments should be applied after every line of a code as shown in the codes above."
      ],
      "execution_count": null,
      "outputs": []
    }
  ]
}