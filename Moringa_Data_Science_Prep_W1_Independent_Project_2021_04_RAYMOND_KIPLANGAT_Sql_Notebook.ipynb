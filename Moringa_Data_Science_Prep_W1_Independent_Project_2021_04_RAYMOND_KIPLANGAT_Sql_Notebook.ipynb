{
  "nbformat": 4,
  "nbformat_minor": 0,
  "metadata": {
    "colab": {
      "name": "Moringa_Data_Science_Prep_W1_Independent_Project_2021_04_RAYMOND_KIPLANGAT_Sql_Notebook.ipynb",
      "provenance": [],
      "collapsed_sections": [],
      "authorship_tag": "ABX9TyNZpFP17tbL9HkIrsVYvIDk",
      "include_colab_link": true
    },
    "kernelspec": {
      "name": "python3",
      "display_name": "Python 3"
    },
    "language_info": {
      "name": "python"
    }
  },
  "cells": [
    {
      "cell_type": "markdown",
      "metadata": {
        "id": "view-in-github",
        "colab_type": "text"
      },
      "source": [
        "<a href=\"https://colab.research.google.com/github/RaymondKiplangat/PREP-INDEPENDENT-PROJECTS/blob/main/Moringa_Data_Science_Prep_W1_Independent_Project_2021_04_RAYMOND_KIPLANGAT_Sql_Notebook.ipynb\" target=\"_parent\"><img src=\"https://colab.research.google.com/assets/colab-badge.svg\" alt=\"Open In Colab\"/></a>"
      ]
    },
    {
      "cell_type": "code",
      "metadata": {
        "colab": {
          "base_uri": "https://localhost:8080/",
          "height": 35
        },
        "id": "zB0gE_Vuwo0A",
        "outputId": "e5bd3ffe-c590-4c17-cc6c-999ab7172906"
      },
      "source": [
        "# We will first load the sql extension into our environment\n",
        "#\n",
        "%load_ext sql\n",
        "\n",
        "# Then connect to our in memory sqlite database\n",
        "# NB: This database will cease to exist as soon as the database connection is closed\n",
        "#\n",
        "%sql sqlite://"
      ],
      "execution_count": null,
      "outputs": [
        {
          "output_type": "execute_result",
          "data": {
            "application/vnd.google.colaboratory.intrinsic+json": {
              "type": "string"
            },
            "text/plain": [
              "'Connected: @None'"
            ]
          },
          "metadata": {
            "tags": []
          },
          "execution_count": 11
        }
      ]
    },
    {
      "cell_type": "code",
      "metadata": {
        "id": "OKxwByPpAcn_"
      },
      "source": [
        "# Importing the python libraries that we will need in this notebook\n",
        "#\n",
        "import csv\n",
        "import pandas as pd"
      ],
      "execution_count": null,
      "outputs": []
    },
    {
      "cell_type": "code",
      "metadata": {
        "colab": {
          "base_uri": "https://localhost:8080/",
          "height": 52
        },
        "id": "AmlcAI5p-X-O",
        "outputId": "02f45b5f-f1cc-492d-caa6-9551aaff842f"
      },
      "source": [
        "#Reading the csv files\n",
        "# Loading the first table from a local CSV file\n",
        "with open('/content/Uganda_Karamoja_Subcounty_Crop_Yield_Population.csv','r') as f:\n",
        "   Uganda= pd.read_csv(f, index_col=0, encoding='utf-8') \n",
        "\n",
        "# Then storing it in an SQL table of our in memory sqlite database\n",
        "#\n",
        "#%sql DROP TABLE if EXISTS Interpol;\n",
        "%sql PERSIST Uganda;\n",
        "\n",
        "\n"
      ],
      "execution_count": null,
      "outputs": [
        {
          "output_type": "stream",
          "text": [
            " * sqlite://\n"
          ],
          "name": "stdout"
        },
        {
          "output_type": "execute_result",
          "data": {
            "application/vnd.google.colaboratory.intrinsic+json": {
              "type": "string"
            },
            "text/plain": [
              "'Persisted uganda'"
            ]
          },
          "metadata": {
            "tags": []
          },
          "execution_count": 13
        }
      ]
    },
    {
      "cell_type": "code",
      "metadata": {
        "id": "t-FHKKmqPqqp",
        "colab": {
          "base_uri": "https://localhost:8080/",
          "height": 136
        },
        "outputId": "71176dad-8f5f-4eb4-d796-4b8863e3cee4"
      },
      "source": [
        "\n",
        "#preview all fields\n",
        "%%sql\n",
        "SELECT * FROM Uganda LIMIT 2\n"
      ],
      "execution_count": null,
      "outputs": [
        {
          "output_type": "stream",
          "text": [
            " * sqlite://\n",
            "Done.\n"
          ],
          "name": "stdout"
        },
        {
          "output_type": "execute_result",
          "data": {
            "text/html": [
              "<table>\n",
              "    <thead>\n",
              "        <tr>\n",
              "            <th>OBJECTID</th>\n",
              "            <th>SUBCOUNTY_NAME</th>\n",
              "            <th>DISTRICT_NAME</th>\n",
              "            <th>POP</th>\n",
              "            <th>Area</th>\n",
              "            <th>Karamoja</th>\n",
              "            <th>S_Yield_Ha</th>\n",
              "            <th>M_Yield_Ha</th>\n",
              "            <th>Crop_Area_Ha</th>\n",
              "            <th>S_Area_Ha</th>\n",
              "            <th>M_Area_Ha</th>\n",
              "            <th>S_Prod_Tot</th>\n",
              "            <th>M_Prod_Tot</th>\n",
              "        </tr>\n",
              "    </thead>\n",
              "    <tbody>\n",
              "        <tr>\n",
              "            <td>263</td>\n",
              "            <td>KACHERI</td>\n",
              "            <td>KOTIDO</td>\n",
              "            <td>17244</td>\n",
              "            <td>1067176155</td>\n",
              "            <td>Y</td>\n",
              "            <td>354.20741069999997</td>\n",
              "            <td>1137.467019</td>\n",
              "            <td>7023.533691</td>\n",
              "            <td>6434.342449</td>\n",
              "            <td>528.1242294</td>\n",
              "            <td>2279091.779</td>\n",
              "            <td>600723.8929</td>\n",
              "        </tr>\n",
              "        <tr>\n",
              "            <td>264</td>\n",
              "            <td>KOTIDO</td>\n",
              "            <td>KOTIDO</td>\n",
              "            <td>52771</td>\n",
              "            <td>597575188</td>\n",
              "            <td>Y</td>\n",
              "            <td>367.89052319999996</td>\n",
              "            <td>1162.9966869999998</td>\n",
              "            <td>13587.990759999999</td>\n",
              "            <td>12455.59264</td>\n",
              "            <td>824.7670809</td>\n",
              "            <td>4582294.492</td>\n",
              "            <td>959201.3825</td>\n",
              "        </tr>\n",
              "    </tbody>\n",
              "</table>"
            ],
            "text/plain": [
              "[(263, 'KACHERI', 'KOTIDO', 17244, 1067176155, 'Y', 354.20741069999997, 1137.467019, 7023.533691, 6434.342449, 528.1242294, 2279091.779, 600723.8929),\n",
              " (264, 'KOTIDO', 'KOTIDO', 52771, 597575188, 'Y', 367.89052319999996, 1162.9966869999998, 13587.990759999999, 12455.59264, 824.7670809, 4582294.492, 959201.3825)]"
            ]
          },
          "metadata": {
            "tags": []
          },
          "execution_count": 35
        }
      ]
    },
    {
      "cell_type": "code",
      "metadata": {
        "id": "ZsCQKRNeL8G6"
      },
      "source": [
        "#Display a list of Sub Counties and their population and areas.\n",
        "%%sql\n",
        "\n",
        "SELECT SUBCOUNTY_NAME, POP, Area FROM Uganda"
      ],
      "execution_count": null,
      "outputs": []
    },
    {
      "cell_type": "code",
      "metadata": {
        "id": "YCEC9mcxMeLx"
      },
      "source": [
        "#Sort the list of districts by total crop area (descending order).\n",
        "%%sql \n",
        "SELECT DISTRICT_NAME FROM Uganda\n",
        "ORDER BY  Crop_Area_Ha DESC;"
      ],
      "execution_count": null,
      "outputs": []
    },
    {
      "cell_type": "code",
      "metadata": {
        "id": "kYsaHRUtRYxw"
      },
      "source": [
        "#Select only the Sub counties from the Moroto district, order them alphabetically and show their production of sorghum.\n",
        "%%sql \n",
        "SELECT SUBCOUNTY_NAME,S_Prod_Tot FROM Uganda\n",
        "WHERE DISTRICT_NAME=\"MOROTO\"\n",
        "ORDER BY  DISTRICT_NAME ASC ;\n"
      ],
      "execution_count": null,
      "outputs": []
    },
    {
      "cell_type": "code",
      "metadata": {
        "id": "4BlmSHNXSqP5",
        "colab": {
          "base_uri": "https://localhost:8080/",
          "height": 95
        },
        "outputId": "8969386d-81ca-4208-995f-87876e1f8ebe"
      },
      "source": [
        "#Compute the total Maize production per District.\n",
        "%%sql \n",
        "SELECT  DISTRICT_NAME, SUM(M_Prod_Tot) As Total_M_DISTRICTS FROM Uganda;\n",
        "\n",
        "\n"
      ],
      "execution_count": null,
      "outputs": [
        {
          "output_type": "stream",
          "text": [
            " * sqlite://\n",
            "Done.\n"
          ],
          "name": "stdout"
        },
        {
          "output_type": "execute_result",
          "data": {
            "text/html": [
              "<table>\n",
              "    <thead>\n",
              "        <tr>\n",
              "            <th>DISTRICT_NAME</th>\n",
              "            <th>Total_M_DISTRICTS</th>\n",
              "        </tr>\n",
              "    </thead>\n",
              "    <tbody>\n",
              "        <tr>\n",
              "            <td>NAKAPIRIPIRIT</td>\n",
              "            <td>28603794.85281165</td>\n",
              "        </tr>\n",
              "    </tbody>\n",
              "</table>"
            ],
            "text/plain": [
              "[('NAKAPIRIPIRIT', 28603794.85281165)]"
            ]
          },
          "metadata": {
            "tags": []
          },
          "execution_count": 38
        }
      ]
    },
    {
      "cell_type": "code",
      "metadata": {
        "id": "7foqo6YGe1J8",
        "colab": {
          "base_uri": "https://localhost:8080/",
          "height": 221
        },
        "outputId": "1f41ad1d-b2cb-45f8-8588-ecf3045cf255"
      },
      "source": [
        "#Compute the number of Sub counties where Maize is produced and the total Maize production per District.\n",
        "%%sql \n",
        "SELECT SUBCOUNTY_NAME, \"DISTRICT_NAME\" , COUNT ('SUBCOUNTY_NAME') FROM Uganda\n",
        "WHERE M_Prod_Tot > 1\n",
        "GROUP BY DISTRICT_NAME;\n",
        "\n"
      ],
      "execution_count": null,
      "outputs": [
        {
          "output_type": "stream",
          "text": [
            " * sqlite://\n",
            "Done.\n"
          ],
          "name": "stdout"
        },
        {
          "output_type": "execute_result",
          "data": {
            "text/html": [
              "<table>\n",
              "    <thead>\n",
              "        <tr>\n",
              "            <th>SUBCOUNTY_NAME</th>\n",
              "            <th>DISTRICT_NAME</th>\n",
              "            <th>COUNT (&#x27;SUBCOUNTY_NAME&#x27;)</th>\n",
              "        </tr>\n",
              "    </thead>\n",
              "    <tbody>\n",
              "        <tr>\n",
              "            <td>NYAKWAE</td>\n",
              "            <td>ABIM</td>\n",
              "            <td>6</td>\n",
              "        </tr>\n",
              "        <tr>\n",
              "            <td>AMUDAT TOWN COUNCIL</td>\n",
              "            <td>AMUDAT</td>\n",
              "            <td>4</td>\n",
              "        </tr>\n",
              "        <tr>\n",
              "            <td>SIDOK</td>\n",
              "            <td>KAABONG</td>\n",
              "            <td>14</td>\n",
              "        </tr>\n",
              "        <tr>\n",
              "            <td>RENGEN</td>\n",
              "            <td>KOTIDO</td>\n",
              "            <td>6</td>\n",
              "        </tr>\n",
              "        <tr>\n",
              "            <td>RUPA</td>\n",
              "            <td>MOROTO</td>\n",
              "            <td>5</td>\n",
              "        </tr>\n",
              "        <tr>\n",
              "            <td>MORUITA</td>\n",
              "            <td>NAKAPIRIPIRIT</td>\n",
              "            <td>8</td>\n",
              "        </tr>\n",
              "        <tr>\n",
              "            <td>LOKOPO</td>\n",
              "            <td>NAPAK</td>\n",
              "            <td>8</td>\n",
              "        </tr>\n",
              "    </tbody>\n",
              "</table>"
            ],
            "text/plain": [
              "[('NYAKWAE', 'ABIM', 6),\n",
              " ('AMUDAT TOWN COUNCIL', 'AMUDAT', 4),\n",
              " ('SIDOK', 'KAABONG', 14),\n",
              " ('RENGEN', 'KOTIDO', 6),\n",
              " ('RUPA', 'MOROTO', 5),\n",
              " ('MORUITA', 'NAKAPIRIPIRIT', 8),\n",
              " ('LOKOPO', 'NAPAK', 8)]"
            ]
          },
          "metadata": {
            "tags": []
          },
          "execution_count": 28
        }
      ]
    },
    {
      "cell_type": "code",
      "metadata": {
        "id": "Y82JF8BSfFTV",
        "colab": {
          "base_uri": "https://localhost:8080/",
          "height": 95
        },
        "outputId": "cf348aa6-7357-4686-ad4d-caf4493949a2"
      },
      "source": [
        "#Compute the overall Crop area in all Sub counties where population is over 20000.\n",
        "%%sql\n",
        "SELECT SUBCOUNTY_NAME, SUM(Crop_Area_Ha) AS Overall_Area FROM Uganda\n",
        "WHERE \"POP\" >20000 ;"
      ],
      "execution_count": null,
      "outputs": [
        {
          "output_type": "stream",
          "text": [
            " * sqlite://\n",
            "Done.\n"
          ],
          "name": "stdout"
        },
        {
          "output_type": "execute_result",
          "data": {
            "text/html": [
              "<table>\n",
              "    <thead>\n",
              "        <tr>\n",
              "            <th>SUBCOUNTY_NAME</th>\n",
              "            <th>Overall_Area</th>\n",
              "        </tr>\n",
              "    </thead>\n",
              "    <tbody>\n",
              "        <tr>\n",
              "            <td>RUPA</td>\n",
              "            <td>120212.89015529997</td>\n",
              "        </tr>\n",
              "    </tbody>\n",
              "</table>"
            ],
            "text/plain": [
              "[('RUPA', 120212.89015529997)]"
            ]
          },
          "metadata": {
            "tags": []
          },
          "execution_count": 32
        }
      ]
    },
    {
      "cell_type": "code",
      "metadata": {
        "id": "7JXEhSttjYpS"
      },
      "source": [
        "#Sort the Maize production in descending order by Districts, only taking into account Sub counties where Maize area is larger than Sorghum area, and display the number of Sub counties per district matching that criteria.\n",
        "%%sql\n",
        "SELECT DISTRICT_NAME , M_Area_Ha ,S_Area_Ha FROM Uganda\n",
        "WHERE \"M_Area_Ha\" > \"S_Area_Ha\"\n",
        "ORDER BY \"M_Prod_Tot\" DESC;"
      ],
      "execution_count": null,
      "outputs": []
    }
  ]
}